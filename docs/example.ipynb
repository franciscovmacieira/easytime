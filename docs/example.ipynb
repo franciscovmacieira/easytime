{
    "cells": [
        {
            "cell_type": "markdown",
            "metadata": {},
            "source": [
                "# Example usage\n",
                "\n",
                "To use `audinter` in a project:"
            ]
        },
        {
            "cell_type": "code",
            "execution_count": 1,
            "metadata": {},
            "outputs": [
                {
                    "name": "stdout",
                    "output_type": "stream",
                    "text": [
                        "0.1.0\n"
                    ]
                }
            ],
            "source": [
                "import audinter\n",
                "print(audinter.__version__)"
            ]
        },
        {
            "cell_type": "code",
            "execution_count": 2,
            "metadata": {},
            "outputs": [
                {
                    "name": "stderr",
                    "output_type": "stream",
                    "text": [
                        "c:\\Users\\anton\\anaconda3\\envs\\pypkg\\lib\\site-packages\\tqdm\\auto.py:21: TqdmWarning: IProgress not found. Please update jupyter and ipywidgets. See https://ipywidgets.readthedocs.io/en/stable/user_install.html\n",
                        "  from .autonotebook import tqdm as notebook_tqdm\n"
                    ]
                }
            ],
            "source": [
                "# function imports\n",
                "from audinter.metrics import algorithm_class_score\n",
                "from audinter.metrics import correlated_features_score\n",
                "from audinter.metrics import model_size\n",
                "from audinter.metrics import feature_importance_score\n",
                "from audinter.metrics import cv_shap_score"
            ]
        },
        {
            "cell_type": "markdown",
            "metadata": {},
            "source": [
                "Dataset Generation and Test Split"
            ]
        },
        {
            "cell_type": "code",
            "execution_count": 3,
            "metadata": {},
            "outputs": [],
            "source": [
                "from sklearn.datasets import make_classification, make_regression\n",
                "from sklearn.model_selection import train_test_split\n",
                "\n",
                "# Generate synthetic data for classification and regression\n",
                "X_class, y_class = make_classification(n_samples=1000, n_features=20, random_state=42)\n",
                "X_reg, y_reg = make_regression(n_samples=1000, n_features=20, random_state=42)\n",
                "\n",
                "# Split data into training and test sets\n",
                "X_train_class, X_test_class, y_train_class, y_test_class = train_test_split(X_class, y_class, test_size=0.2, random_state=42)\n",
                "X_train_reg, X_test_reg, y_train_reg, y_test_reg = train_test_split(X_reg, y_reg, test_size=0.2, random_state=42)"
            ]
        },
        {
            "cell_type": "markdown",
            "metadata": {},
            "source": [
                "Usage examples:\n",
                "\n",
                "- Random Forest Classifier "
            ]
        },
        {
            "cell_type": "code",
            "execution_count": 4,
            "metadata": {},
            "outputs": [
                {
                    "name": "stdout",
                    "output_type": "stream",
                    "text": [
                        "=== Random Forest Classifier Scores ===\n",
                        "Classifier Algorithm Class Score: (4, 'Level of explainability based on on literature research and qualitative analysis of each learning technique.')\n",
                        "Model Size: (12826, 'Returned number of total nodes.')\n",
                        "Correlated Features Score: (0.84, 'Proportion of non-highly correlated features, correlation lesser than avg_corr + std_corr.')\n",
                        "Feature Importance Score: (0.05, 'Percentage of features that concentrate distri_threshold (0.5) percent of the total importance.')\n",
                        "CV SHAP Score: (2.375, 'Coefficient of variation of absolute SHAP values.')\n"
                    ]
                }
            ],
            "source": [
                "from sklearn.ensemble import RandomForestClassifier\n",
                "\n",
                "rf_model = RandomForestClassifier(random_state=42)\n",
                "rf_model.fit(X_train_class, y_train_class)\n",
                "\n",
                "print(\"=== Random Forest Classifier Scores ===\")\n",
                "print(f\"Classifier Algorithm Class Score: {algorithm_class_score(rf_model)}\")\n",
                "print(f\"Model Size: {model_size(rf_model)}\")\n",
                "print(f\"Correlated Features Score: {correlated_features_score(X_test_class)}\")\n",
                "print(f\"Feature Importance Score: {feature_importance_score(rf_model)}\")\n",
                "print(f\"CV SHAP Score: {cv_shap_score(rf_model, X_test_class)}\")"
            ]
        },
        {
            "cell_type": "markdown",
            "metadata": {},
            "source": [
                "- Support Vector Classifier (SVC)"
            ]
        },
        {
            "cell_type": "code",
            "execution_count": 5,
            "metadata": {},
            "outputs": [
                {
                    "name": "stdout",
                    "output_type": "stream",
                    "text": [
                        "=== Support Vector Classifier Scores ===\n",
                        "Classifier Algorithm Class Score: (2, 'Level of explainability based on on literature research and qualitative analysis of each learning technique.')\n",
                        "Model Size: (20, 'Returned number of features seen during fit.')\n",
                        "Correlated Features Score: (0.84, 'Proportion of non-highly correlated features, correlation lesser than avg_corr + std_corr.')\n",
                        "Feature Importance Score: (None, 'Classifier type is not applicable!')\n",
                        "CV SHAP Score: (1.555, 'Coefficient of variation of absolute SHAP values.')\n"
                    ]
                }
            ],
            "source": [
                "from sklearn.svm import SVC\n",
                "\n",
                "svc_model = SVC()\n",
                "svc_model.fit(X_train_class, y_train_class)\n",
                "\n",
                "print(\"=== Support Vector Classifier Scores ===\")\n",
                "print(f\"Classifier Algorithm Class Score: {algorithm_class_score(svc_model)}\")\n",
                "print(f\"Model Size: {model_size(svc_model)}\")\n",
                "print(f\"Correlated Features Score: {correlated_features_score(X_test_class)}\")\n",
                "print(f\"Feature Importance Score: {feature_importance_score(svc_model)}\")\n",
                "print(f\"CV SHAP Score: {cv_shap_score(svc_model, X_test_class)}\")"
            ]
        },
        {
            "cell_type": "markdown",
            "metadata": {},
            "source": [
                "- Linear Regression"
            ]
        },
        {
            "cell_type": "code",
            "execution_count": 6,
            "metadata": {},
            "outputs": [
                {
                    "name": "stdout",
                    "output_type": "stream",
                    "text": [
                        "=== Linear Regression Scores ===\n",
                        "Classifier Algorithm Class Score: (3.5, 'Level of explainability based on on literature research and qualitative analysis of each learning technique.')\n",
                        "Model Size: (20, 'Returned number of features seen during fit.')\n",
                        "Correlated Features Score: (0.32, 'Proportion of non-highly correlated features, correlation lesser than avg_corr + std_corr.')\n",
                        "Feature Importance Score: (0.1, 'Percentage of features that concentrate distri_threshold (0.5) percent of the total importance.')\n",
                        "CV SHAP Score: (1.696, 'Coefficient of variation of absolute SHAP values.')\n"
                    ]
                }
            ],
            "source": [
                "from sklearn.linear_model import LinearRegression\n",
                "\n",
                "linreg_model = LinearRegression()\n",
                "linreg_model.fit(X_train_reg, y_train_reg)\n",
                "\n",
                "print(\"=== Linear Regression Scores ===\")\n",
                "print(f\"Classifier Algorithm Class Score: {algorithm_class_score(linreg_model)}\")\n",
                "print(f\"Model Size: {model_size(linreg_model)}\")\n",
                "print(f\"Correlated Features Score: {correlated_features_score(X_test_reg)}\")\n",
                "print(f\"Feature Importance Score: {feature_importance_score(linreg_model)}\")\n",
                "print(f\"CV SHAP Score: {cv_shap_score(linreg_model, X_test_reg)}\")"
            ]
        },
        {
            "cell_type": "markdown",
            "metadata": {},
            "source": [
                "- XGBoost Classifier"
            ]
        },
        {
            "cell_type": "code",
            "execution_count": 7,
            "metadata": {},
            "outputs": [
                {
                    "name": "stdout",
                    "output_type": "stream",
                    "text": [
                        "=== XGBoost Classifier Scores ===\n",
                        "Classifier Algorithm Class Score: (1, 'Level of explainability based on on literature research and qualitative analysis of each learning technique.')\n",
                        "Model Size: (20, 'Returned number of features seen during fit.')\n",
                        "Correlated Features Score: (0.84, 'Proportion of non-highly correlated features, correlation lesser than avg_corr + std_corr.')\n",
                        "Feature Importance Score: (None, 'Classifier type is not applicable!')\n",
                        "CV SHAP Score: (2.474, 'Coefficient of variation of absolute SHAP values.')\n"
                    ]
                }
            ],
            "source": [
                "import xgboost as xgb\n",
                "\n",
                "xgb_model = xgb.XGBClassifier(random_state=42, eval_metric='logloss')\n",
                "xgb_model.fit(X_train_class, y_train_class)\n",
                "\n",
                "print(\"=== XGBoost Classifier Scores ===\")\n",
                "print(f\"Classifier Algorithm Class Score: {algorithm_class_score(xgb_model)}\")\n",
                "print(f\"Model Size: {model_size(xgb_model)}\")\n",
                "print(f\"Correlated Features Score: {correlated_features_score(X_test_class)}\")\n",
                "print(f\"Feature Importance Score: {feature_importance_score(xgb_model)}\")\n",
                "print(f\"CV SHAP Score: {cv_shap_score(xgb_model, X_test_class)}\")"
            ]
        },
        {
            "cell_type": "markdown",
            "metadata": {},
            "source": [
                "- Neural Network\n",
                "\n",
                "Note: In this example Keras library was used, but other libraries such as PyTorch are also supported in this package."
            ]
        },
        {
            "cell_type": "code",
            "execution_count": 8,
            "metadata": {},
            "outputs": [
                {
                    "name": "stderr",
                    "output_type": "stream",
                    "text": [
                        "c:\\Users\\anton\\anaconda3\\envs\\pypkg\\lib\\site-packages\\keras\\src\\layers\\core\\dense.py:87: UserWarning: Do not pass an `input_shape`/`input_dim` argument to a layer. When using Sequential models, prefer using an `Input(shape)` object as the first layer in the model instead.\n",
                        "  super().__init__(activity_regularizer=activity_regularizer, **kwargs)\n"
                    ]
                },
                {
                    "name": "stdout",
                    "output_type": "stream",
                    "text": [
                        "=== Keras Neural Network ===\n",
                        "Classifier Algorithm Class Score: (1, 'Level of explainability based on on literature research and qualitative analysis of each learning technique.')\n",
                        "Model Size: (221, 'Returned number of parameters.')\n",
                        "Correlated Features Score: (0.84, 'Proportion of non-highly correlated features, correlation lesser than avg_corr + std_corr.')\n",
                        "Feature Importance Score: (None, 'Classifier type is not applicable!')\n",
                        "\u001b[1m4/4\u001b[0m \u001b[32m━━━━━━━━━━━━━━━━━━━━\u001b[0m\u001b[37m\u001b[0m \u001b[1m0s\u001b[0m 16ms/step\n",
                        "\u001b[1m1/1\u001b[0m \u001b[32m━━━━━━━━━━━━━━━━━━━━\u001b[0m\u001b[37m\u001b[0m \u001b[1m0s\u001b[0m 38ms/step\n",
                        "\u001b[1m6525/6525\u001b[0m \u001b[32m━━━━━━━━━━━━━━━━━━━━\u001b[0m\u001b[37m\u001b[0m \u001b[1m9s\u001b[0m 1ms/step\n",
                        "CV SHAP Score: (1.147, 'Coefficient of variation of absolute SHAP values.')\n"
                    ]
                }
            ],
            "source": [
                "from tensorflow.keras.models import Sequential\n",
                "from tensorflow.keras.layers import Dense\n",
                "\n",
                "keras_model = Sequential([\n",
                "    Dense(10, input_dim=20, activation='relu'),\n",
                "    Dense(1, activation='sigmoid')\n",
                "])\n",
                "keras_model.compile(optimizer='adam', loss='binary_crossentropy', metrics=['accuracy'])\n",
                "keras_model.fit(X_train_class, y_train_class, epochs=10, batch_size=32, verbose=0)\n",
                "\n",
                "print(\"=== Keras Neural Network ===\")\n",
                "print(f\"Classifier Algorithm Class Score: {algorithm_class_score(keras_model)}\")\n",
                "print(f\"Model Size: {model_size(keras_model)}\")\n",
                "print(f\"Correlated Features Score: {correlated_features_score(X_test_class)}\")\n",
                "print(f\"Feature Importance Score: {feature_importance_score(keras_model)}\")\n",
                "print(f\"CV SHAP Score: {cv_shap_score(keras_model, X_test_class)}\")"
            ]
        }
    ],
    "metadata": {
        "kernelspec": {
            "display_name": "pypkg",
            "language": "python",
            "name": "python3"
        },
        "language_info": {
            "codemirror_mode": {
                "name": "ipython",
                "version": 3
            },
            "file_extension": ".py",
            "mimetype": "text/x-python",
            "name": "python",
            "nbconvert_exporter": "python",
            "pygments_lexer": "ipython3",
            "version": "3.9.19"
        }
    },
    "nbformat": 4,
    "nbformat_minor": 4
}
